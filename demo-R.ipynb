{
 "cells": [
  {
   "cell_type": "markdown",
   "metadata": {},
   "source": [
    "An example Jupyter file\n",
    "=========\n",
    "Illustrating the use of R code chunks\n",
    "------------------\n",
    "Christopher Paciorek\n",
    "August 2015"
   ]
  },
  {
   "cell_type": "markdown",
   "metadata": {},
   "source": [
    "# 1) How to generate a document from this file\n",
    "You can create an HTML output file by simply selecting `File -> Download as -> HTML (.html)`. I don't know of a way to directly generate a PDF.\n",
    "\n",
    "To generate a document from the command line, you can do the following:\n",
    "```\n",
    "ipython nbconvert demo-R.ipynb --to html  # for html\n",
    "ipython nbconvert demo-R.ipynb --to pdf   # for pdf\n",
    "```\n",
    "\n",
    "Generating PDF involves converting the Notebook to LaTeX, and that fails for this particular document. "
   ]
  },
  {
   "cell_type": "markdown",
   "metadata": {},
   "source": [
    "\n",
    "\n",
    "# 2) Some basic Markdown formatting\n",
    "\n",
    "Here's an *introduction* to our **critical** discovery. We have some code to display but not evaluate: `7 %% 5` and will embed this in a larger workflow:\n",
    "```\n",
    "a = 7 %% 5\n",
    "b = exp(a)\n",
    "```\n",
    "\n",
    "This document will focus on embedding math and code and not on standard Markdown formatting. There are lots of sources of information on Markdown. [RStudio has good information on R Markdown](http://rmarkdown.rstudio.com) (including Markdown formatting).\n"
   ]
  },
  {
   "cell_type": "markdown",
   "metadata": {},
   "source": [
    "# 3) Embedding equations using LaTeX\n",
    "\n",
    "This can be done with the following syntax. Note that you can't have a space after the initial $ for the inline equations.\n",
    "\n",
    "Here is an inline equation $f(x) = \\int f(y, x) dy$.\n",
    "\n",
    "Here's a displayed equation\n",
    "$$\n",
    "f_\\theta(x) = \\int f_\\theta(y, x) dy.\n",
    "$$ \n"
   ]
  },
  {
   "cell_type": "markdown",
   "metadata": {},
   "source": [
    "# 4) Embedding R code\n",
    "Here's an R code chunk"
   ]
  },
  {
   "cell_type": "code",
   "execution_count": 1,
   "metadata": {
    "collapsed": false
   },
   "outputs": [
    {
     "data": {
      "text/html": [
       "5"
      ],
      "text/latex": [
       "5"
      ],
      "text/markdown": [
       "5"
      ],
      "text/plain": [
       "[1] 5"
      ]
     },
     "execution_count": 1,
     "metadata": {},
     "output_type": "execute_result"
    },
    {
     "data": {
      "text/html": [
       "8"
      ],
      "text/latex": [
       "8"
      ],
      "text/markdown": [
       "8"
      ],
      "text/plain": [
       "[1] 8"
      ]
     },
     "execution_count": 1,
     "metadata": {},
     "output_type": "execute_result"
    }
   ],
   "source": [
    "a <- c(7, 3)\n",
    "mean(a)\n",
    "b <- a + 3\n",
    "mean(b)"
   ]
  },
  {
   "cell_type": "markdown",
   "metadata": {},
   "source": [
    "Here's another chunk"
   ]
  },
  {
   "cell_type": "code",
   "execution_count": 4,
   "metadata": {
    "collapsed": false
   },
   "outputs": [
    {
     "data": {
      "text/html": [
       "8"
      ],
      "text/latex": [
       "8"
      ],
      "text/markdown": [
       "8"
      ],
      "text/plain": [
       "[1] 8"
      ]
     },
     "execution_count": 4,
     "metadata": {},
     "output_type": "execute_result"
    }
   ],
   "source": [
    "mean(b)"
   ]
  },
  {
   "cell_type": "markdown",
   "metadata": {},
   "source": [
    "Note above that output is not printed interspersed with the code, as one would generally want. So you need to break up your code into chunks such that the output appears immediately following the code.\n",
    "\n",
    "Also note above that later chunks have access to result from earlier chunks (i.e., state is preserved between chunks). \n",
    "\n",
    "Let's make a plot:"
   ]
  },
  {
   "cell_type": "code",
   "execution_count": null,
   "metadata": {
    "collapsed": true
   },
   "outputs": [],
   "source": [
    "hist(rnorm(20))"
   ]
  },
  {
   "cell_type": "markdown",
   "metadata": {},
   "source": [
    "You can't insert inline code to be evaluated. \n",
    "\n",
    "To control whether code is evaluated, simply choose whether or not to run the chunk (i.e., using the evaluation button in the toolbar). I don't believe you have control over whether the code in a chunk is printed when creating an output file. "
   ]
  },
  {
   "cell_type": "code",
   "execution_count": null,
   "metadata": {
    "collapsed": true
   },
   "outputs": [],
   "source": [
    "a <- c(7, 3)\n",
    "mean(a)\n",
    "b <- a + 3\n",
    "mean(b)"
   ]
  },
  {
   "cell_type": "markdown",
   "metadata": {},
   "source": [
    "I'm not aware of a direct way to cache the results of a calculation to save time when running the code in a notebook multiple times.\n",
    "\n",
    "# 5) Embedding bash and Python code\n",
    "You can't directly embed code chunks from different languages in the same document. See *demo-python.ipynb* and *demo-bash.ipynb*.\n",
    "\n",
    "# 6) Reading code from an external file\n",
    "I'm not aware of a way to directly source code from an external file as the code in a code chunk.\n",
    "\n",
    "# 7) Formatting of long lines of code and of output\n",
    "\n",
    "Here we'll see that output of a code chunk does not overflow the page but may be broken up awkwardly."
   ]
  },
  {
   "cell_type": "code",
   "execution_count": 1,
   "metadata": {
    "collapsed": false
   },
   "outputs": [
    {
     "name": "stdout",
     "output_type": "stream",
     "text": [
      "Statistics at UC Berkeley: We are a community engaged in research and education in probability and statistics.In addition to developing fundamental theory and methodology, we are actively\n"
     ]
    },
    {
     "data": {
      "text/html": [
       "<ol class=list-inline>\n",
       "\t<li>0.978427379777269</li>\n",
       "\t<li>-0.274091115343669</li>\n",
       "\t<li>-1.16934654109378</li>\n",
       "\t<li>-1.37965101398903</li>\n",
       "\t<li>0.834212979068646</li>\n",
       "\t<li>-1.04547763462156</li>\n",
       "\t<li>0.418699009561071</li>\n",
       "\t<li>0.405479772583448</li>\n",
       "\t<li>1.51369604543636</li>\n",
       "\t<li>-1.57131302633157</li>\n",
       "\t<li>-0.420687710825262</li>\n",
       "\t<li>-0.889034725621385</li>\n",
       "\t<li>0.0235893261142619</li>\n",
       "\t<li>-0.0650540945383818</li>\n",
       "\t<li>-0.14792760908381</li>\n",
       "\t<li>-0.257309231242869</li>\n",
       "\t<li>1.0115670375074</li>\n",
       "\t<li>0.704642053548183</li>\n",
       "\t<li>-1.05203955614065</li>\n",
       "\t<li>-1.53326007625427</li>\n",
       "\t<li>1.27754523160649</li>\n",
       "\t<li>0.407955450135378</li>\n",
       "\t<li>-0.195606007102072</li>\n",
       "\t<li>1.80339828847293</li>\n",
       "\t<li>0.0257009673246779</li>\n",
       "\t<li>-0.510810375423097</li>\n",
       "\t<li>0.243474769692664</li>\n",
       "\t<li>-0.199240508341974</li>\n",
       "\t<li>-0.749862036274827</li>\n",
       "\t<li>0.0578387766975758</li>\n",
       "\t<li>0.80404497353283</li>\n",
       "\t<li>-0.163736156219469</li>\n",
       "\t<li>1.22787590153503</li>\n",
       "\t<li>0.398248978935477</li>\n",
       "\t<li>1.15278016467473</li>\n",
       "\t<li>-0.0410001394882843</li>\n",
       "\t<li>-0.0468142247234095</li>\n",
       "\t<li>1.32878514878109</li>\n",
       "\t<li>0.896482541115581</li>\n",
       "\t<li>0.770942784514569</li>\n",
       "\t<li>-1.1066607856158</li>\n",
       "\t<li>1.72537495226795</li>\n",
       "\t<li>0.44436123700855</li>\n",
       "\t<li>-0.937134233962853</li>\n",
       "\t<li>-2.43214153576521</li>\n",
       "\t<li>0.420955289918074</li>\n",
       "\t<li>1.23115152009083</li>\n",
       "\t<li>0.371585277808967</li>\n",
       "\t<li>-0.474732014559006</li>\n",
       "\t<li>1.01775961589147</li>\n",
       "\t<li>0.237010699102085</li>\n",
       "\t<li>0.374499321956606</li>\n",
       "\t<li>1.12014640700905</li>\n",
       "\t<li>0.154898152298806</li>\n",
       "\t<li>0.767838650963029</li>\n",
       "\t<li>-1.54517670685235</li>\n",
       "\t<li>-0.000141682444104981</li>\n",
       "\t<li>0.0226931711731237</li>\n",
       "\t<li>0.76015303755363</li>\n",
       "\t<li>0.0837453748258361</li>\n",
       "\t<li>1.16224480070843</li>\n",
       "\t<li>0.728760912006741</li>\n",
       "\t<li>-0.292421150575691</li>\n",
       "\t<li>0.0645815997316978</li>\n",
       "\t<li>1.26979928166157</li>\n",
       "\t<li>0.918043773904933</li>\n",
       "\t<li>-0.243393387772299</li>\n",
       "\t<li>-0.115968474663935</li>\n",
       "\t<li>1.40525244072293</li>\n",
       "\t<li>-1.17875994750543</li>\n",
       "\t<li>-0.529292177995608</li>\n",
       "\t<li>-1.26108641677945</li>\n",
       "\t<li>-0.0886298491120327</li>\n",
       "\t<li>0.534070466843842</li>\n",
       "\t<li>-0.567421336595363</li>\n",
       "\t<li>-0.267224996458857</li>\n",
       "\t<li>-1.47100039330744</li>\n",
       "\t<li>1.94129579788125</li>\n",
       "\t<li>-1.65588310956562</li>\n",
       "\t<li>-0.921536788962101</li>\n",
       "\t<li>0.826675503861505</li>\n",
       "\t<li>-0.282098469134955</li>\n",
       "\t<li>0.309520678750872</li>\n",
       "\t<li>-0.450636133816471</li>\n",
       "\t<li>0.141656881895581</li>\n",
       "\t<li>-0.684710733231403</li>\n",
       "\t<li>-0.500025702059955</li>\n",
       "\t<li>0.163025174567619</li>\n",
       "\t<li>-2.09733662368027</li>\n",
       "\t<li>1.05854978305625</li>\n",
       "\t<li>1.92561929103983</li>\n",
       "\t<li>-0.283472245896731</li>\n",
       "\t<li>0.115275417125539</li>\n",
       "\t<li>0.380405370518105</li>\n",
       "\t<li>-0.252910351017969</li>\n",
       "\t<li>-0.323371456724352</li>\n",
       "\t<li>0.878633469000961</li>\n",
       "\t<li>0.807019872313174</li>\n",
       "\t<li>1.53660153123221</li>\n",
       "\t<li>-0.3168470563282</li>\n",
       "</ol>\n"
      ],
      "text/latex": [
       "\\begin{enumerate*}\n",
       "\\item 0.978427379777269\n",
       "\\item -0.274091115343669\n",
       "\\item -1.16934654109378\n",
       "\\item -1.37965101398903\n",
       "\\item 0.834212979068646\n",
       "\\item -1.04547763462156\n",
       "\\item 0.418699009561071\n",
       "\\item 0.405479772583448\n",
       "\\item 1.51369604543636\n",
       "\\item -1.57131302633157\n",
       "\\item -0.420687710825262\n",
       "\\item -0.889034725621385\n",
       "\\item 0.0235893261142619\n",
       "\\item -0.0650540945383818\n",
       "\\item -0.14792760908381\n",
       "\\item -0.257309231242869\n",
       "\\item 1.0115670375074\n",
       "\\item 0.704642053548183\n",
       "\\item -1.05203955614065\n",
       "\\item -1.53326007625427\n",
       "\\item 1.27754523160649\n",
       "\\item 0.407955450135378\n",
       "\\item -0.195606007102072\n",
       "\\item 1.80339828847293\n",
       "\\item 0.0257009673246779\n",
       "\\item -0.510810375423097\n",
       "\\item 0.243474769692664\n",
       "\\item -0.199240508341974\n",
       "\\item -0.749862036274827\n",
       "\\item 0.0578387766975758\n",
       "\\item 0.80404497353283\n",
       "\\item -0.163736156219469\n",
       "\\item 1.22787590153503\n",
       "\\item 0.398248978935477\n",
       "\\item 1.15278016467473\n",
       "\\item -0.0410001394882843\n",
       "\\item -0.0468142247234095\n",
       "\\item 1.32878514878109\n",
       "\\item 0.896482541115581\n",
       "\\item 0.770942784514569\n",
       "\\item -1.1066607856158\n",
       "\\item 1.72537495226795\n",
       "\\item 0.44436123700855\n",
       "\\item -0.937134233962853\n",
       "\\item -2.43214153576521\n",
       "\\item 0.420955289918074\n",
       "\\item 1.23115152009083\n",
       "\\item 0.371585277808967\n",
       "\\item -0.474732014559006\n",
       "\\item 1.01775961589147\n",
       "\\item 0.237010699102085\n",
       "\\item 0.374499321956606\n",
       "\\item 1.12014640700905\n",
       "\\item 0.154898152298806\n",
       "\\item 0.767838650963029\n",
       "\\item -1.54517670685235\n",
       "\\item -0.000141682444104981\n",
       "\\item 0.0226931711731237\n",
       "\\item 0.76015303755363\n",
       "\\item 0.0837453748258361\n",
       "\\item 1.16224480070843\n",
       "\\item 0.728760912006741\n",
       "\\item -0.292421150575691\n",
       "\\item 0.0645815997316978\n",
       "\\item 1.26979928166157\n",
       "\\item 0.918043773904933\n",
       "\\item -0.243393387772299\n",
       "\\item -0.115968474663935\n",
       "\\item 1.40525244072293\n",
       "\\item -1.17875994750543\n",
       "\\item -0.529292177995608\n",
       "\\item -1.26108641677945\n",
       "\\item -0.0886298491120327\n",
       "\\item 0.534070466843842\n",
       "\\item -0.567421336595363\n",
       "\\item -0.267224996458857\n",
       "\\item -1.47100039330744\n",
       "\\item 1.94129579788125\n",
       "\\item -1.65588310956562\n",
       "\\item -0.921536788962101\n",
       "\\item 0.826675503861505\n",
       "\\item -0.282098469134955\n",
       "\\item 0.309520678750872\n",
       "\\item -0.450636133816471\n",
       "\\item 0.141656881895581\n",
       "\\item -0.684710733231403\n",
       "\\item -0.500025702059955\n",
       "\\item 0.163025174567619\n",
       "\\item -2.09733662368027\n",
       "\\item 1.05854978305625\n",
       "\\item 1.92561929103983\n",
       "\\item -0.283472245896731\n",
       "\\item 0.115275417125539\n",
       "\\item 0.380405370518105\n",
       "\\item -0.252910351017969\n",
       "\\item -0.323371456724352\n",
       "\\item 0.878633469000961\n",
       "\\item 0.807019872313174\n",
       "\\item 1.53660153123221\n",
       "\\item -0.3168470563282\n",
       "\\end{enumerate*}\n"
      ],
      "text/markdown": [
       "1. 0.978427379777269\n",
       "2. -0.274091115343669\n",
       "3. -1.16934654109378\n",
       "4. -1.37965101398903\n",
       "5. 0.834212979068646\n",
       "6. -1.04547763462156\n",
       "7. 0.418699009561071\n",
       "8. 0.405479772583448\n",
       "9. 1.51369604543636\n",
       "10. -1.57131302633157\n",
       "11. -0.420687710825262\n",
       "12. -0.889034725621385\n",
       "13. 0.0235893261142619\n",
       "14. -0.0650540945383818\n",
       "15. -0.14792760908381\n",
       "16. -0.257309231242869\n",
       "17. 1.0115670375074\n",
       "18. 0.704642053548183\n",
       "19. -1.05203955614065\n",
       "20. -1.53326007625427\n",
       "21. 1.27754523160649\n",
       "22. 0.407955450135378\n",
       "23. -0.195606007102072\n",
       "24. 1.80339828847293\n",
       "25. 0.0257009673246779\n",
       "26. -0.510810375423097\n",
       "27. 0.243474769692664\n",
       "28. -0.199240508341974\n",
       "29. -0.749862036274827\n",
       "30. 0.0578387766975758\n",
       "31. 0.80404497353283\n",
       "32. -0.163736156219469\n",
       "33. 1.22787590153503\n",
       "34. 0.398248978935477\n",
       "35. 1.15278016467473\n",
       "36. -0.0410001394882843\n",
       "37. -0.0468142247234095\n",
       "38. 1.32878514878109\n",
       "39. 0.896482541115581\n",
       "40. 0.770942784514569\n",
       "41. -1.1066607856158\n",
       "42. 1.72537495226795\n",
       "43. 0.44436123700855\n",
       "44. -0.937134233962853\n",
       "45. -2.43214153576521\n",
       "46. 0.420955289918074\n",
       "47. 1.23115152009083\n",
       "48. 0.371585277808967\n",
       "49. -0.474732014559006\n",
       "50. 1.01775961589147\n",
       "51. 0.237010699102085\n",
       "52. 0.374499321956606\n",
       "53. 1.12014640700905\n",
       "54. 0.154898152298806\n",
       "55. 0.767838650963029\n",
       "56. -1.54517670685235\n",
       "57. -0.000141682444104981\n",
       "58. 0.0226931711731237\n",
       "59. 0.76015303755363\n",
       "60. 0.0837453748258361\n",
       "61. 1.16224480070843\n",
       "62. 0.728760912006741\n",
       "63. -0.292421150575691\n",
       "64. 0.0645815997316978\n",
       "65. 1.26979928166157\n",
       "66. 0.918043773904933\n",
       "67. -0.243393387772299\n",
       "68. -0.115968474663935\n",
       "69. 1.40525244072293\n",
       "70. -1.17875994750543\n",
       "71. -0.529292177995608\n",
       "72. -1.26108641677945\n",
       "73. -0.0886298491120327\n",
       "74. 0.534070466843842\n",
       "75. -0.567421336595363\n",
       "76. -0.267224996458857\n",
       "77. -1.47100039330744\n",
       "78. 1.94129579788125\n",
       "79. -1.65588310956562\n",
       "80. -0.921536788962101\n",
       "81. 0.826675503861505\n",
       "82. -0.282098469134955\n",
       "83. 0.309520678750872\n",
       "84. -0.450636133816471\n",
       "85. 0.141656881895581\n",
       "86. -0.684710733231403\n",
       "87. -0.500025702059955\n",
       "88. 0.163025174567619\n",
       "89. -2.09733662368027\n",
       "90. 1.05854978305625\n",
       "91. 1.92561929103983\n",
       "92. -0.283472245896731\n",
       "93. 0.115275417125539\n",
       "94. 0.380405370518105\n",
       "95. -0.252910351017969\n",
       "96. -0.323371456724352\n",
       "97. 0.878633469000961\n",
       "98. 0.807019872313174\n",
       "99. 1.53660153123221\n",
       "100. -0.3168470563282\n",
       "\n",
       "\n"
      ],
      "text/plain": [
       "  [1]  0.9784273798 -0.2740911153 -1.1693465411 -1.3796510140  0.8342129791\n",
       "  [6] -1.0454776346  0.4186990096  0.4054797726  1.5136960454 -1.5713130263\n",
       " [11] -0.4206877108 -0.8890347256  0.0235893261 -0.0650540945 -0.1479276091\n",
       " [16] -0.2573092312  1.0115670375  0.7046420535 -1.0520395561 -1.5332600763\n",
       " [21]  1.2775452316  0.4079554501 -0.1956060071  1.8033982885  0.0257009673\n",
       " [26] -0.5108103754  0.2434747697 -0.1992405083 -0.7498620363  0.0578387767\n",
       " [31]  0.8040449735 -0.1637361562  1.2278759015  0.3982489789  1.1527801647\n",
       " [36] -0.0410001395 -0.0468142247  1.3287851488  0.8964825411  0.7709427845\n",
       " [41] -1.1066607856  1.7253749523  0.4443612370 -0.9371342340 -2.4321415358\n",
       " [46]  0.4209552899  1.2311515201  0.3715852778 -0.4747320146  1.0177596159\n",
       " [51]  0.2370106991  0.3744993220  1.1201464070  0.1548981523  0.7678386510\n",
       " [56] -1.5451767069 -0.0001416824  0.0226931712  0.7601530376  0.0837453748\n",
       " [61]  1.1622448007  0.7287609120 -0.2924211506  0.0645815997  1.2697992817\n",
       " [66]  0.9180437739 -0.2433933878 -0.1159684747  1.4052524407 -1.1787599475\n",
       " [71] -0.5292921780 -1.2610864168 -0.0886298491  0.5340704668 -0.5674213366\n",
       " [76] -0.2672249965 -1.4710003933  1.9412957979 -1.6558831096 -0.9215367890\n",
       " [81]  0.8266755039 -0.2820984691  0.3095206788 -0.4506361338  0.1416568819\n",
       " [86] -0.6847107332 -0.5000257021  0.1630251746 -2.0973366237  1.0585497831\n",
       " [91]  1.9256192910 -0.2834722459  0.1152754171  0.3804053705 -0.2529103510\n",
       " [96] -0.3233714567  0.8786334690  0.8070198723  1.5366015312 -0.3168470563"
      ]
     },
     "execution_count": 1,
     "metadata": {},
     "output_type": "execute_result"
    }
   ],
   "source": [
    "b <- \"Statistics at UC Berkeley: We are a community engaged in research and education in probability and statistics. In addition to developing fundamental theory and methodology, we are actively\"\n",
    "b <- \"Statistics at UC Berkeley: We are a community engaged in research and education in probability and statistics.\"\n",
    "tmp <- \"In addition to developing fundamental theory and methodology, we are actively\"\n",
    "b <- paste0(b, tmp)\n",
    "# Statistics at UC Berkeley: We are a community engaged in research and education in probability and statistics. In addition to developing fundamental theory and methodology, we are actively\n",
    "\n",
    "# this should work but doesn't always\n",
    "cat(b, fill = TRUE)\n",
    "\n",
    "tmp1 <- 7\n",
    "# there should be a blank line after this\n",
    "\n",
    "tmp3 <- 9\n",
    "tmp4 <- 11\n",
    "# a work around if you can't insert a blank line easily\n",
    "# is just to put an empty comment line instead\n",
    "# there should be two lines with just comment characters next:\n",
    "#\n",
    "#\n",
    "# that creates some space\n",
    "\n",
    "vecLongName = rnorm(100)\n",
    "a = length(mean(5 * vecLongName + vecLongName - exp(vecLongName) + vecLongName * vecLongName, na.rm = TRUE))\n",
    "a = length(mean(5 * vecLongName + vecLongName)) # this is a comment that goes over the line by a good long ways\n",
    "a = length(mean(5 * vecLongName + vecLongName - exp(vecLongName) + vecLongName, na.rm = TRUE)) # this is a comment that goes over the line by a good long long long long long long long long ways\n",
    "\n",
    "# long output usually is fine\n",
    "rnorm(100)\n"
   ]
  },
  {
   "cell_type": "markdown",
   "metadata": {},
   "source": [
    "We can tidy up the code manually so that the code itself can all be viewed."
   ]
  },
  {
   "cell_type": "code",
   "execution_count": 2,
   "metadata": {
    "collapsed": true
   },
   "outputs": [],
   "source": [
    "# breaking up a string\n",
    "b <- \"Statistics at UC Berkeley: We are a community engaged in research\n",
    " and education in probability and statistics. In addition to developing \n",
    "fundamental theory and methodology, we are actively\"\n",
    "\n",
    "# breaking up a comment\n",
    "# Statistics at UC Berkeley: We are a community engaged in research and \n",
    "# education in probability and statistics. In addition to developing \n",
    "# fundamental theory and methodology, we are actively\n",
    "\n",
    "# breaking up code lines\n",
    "vecLongName = rnorm(100)\n",
    "a <- length(mean(5 * vecLongName + vecLongName - exp(vecLongName) + \n",
    "    vecLongName * vecLongName, na.rm = TRUE))\n",
    "a <- length(mean(5 * vecLongName + vecLongName)) # this is a comment \n",
    "    # that goes over the line by a good long ways\n",
    "a <- length(mean(5 * vecLongName + vecLongName - exp(vecLongName) + \n",
    "    vecLongName, na.rm = TRUE)) # this is a comment that goes over the \n",
    "    # line by a good long long long long long long long long ways\n"
   ]
  },
  {
   "cell_type": "markdown",
   "metadata": {},
   "source": [
    "# 8) References\n",
    "\n",
    "It's possible to insert references and a bibliography into a Jupyter document but it's slightly involved so we won't go into it here.\n"
   ]
  },
  {
   "cell_type": "code",
   "execution_count": null,
   "metadata": {
    "collapsed": true
   },
   "outputs": [],
   "source": []
  }
 ],
 "metadata": {
  "kernelspec": {
   "display_name": "R",
   "language": "R",
   "name": "ir"
  },
  "language_info": {
   "codemirror_mode": "r",
   "file_extension": ".r",
   "mimetype": "text/x-r-source",
   "name": "R",
   "pygments_lexer": "r",
   "version": "3.2.0"
  }
 },
 "nbformat": 4,
 "nbformat_minor": 0
}
