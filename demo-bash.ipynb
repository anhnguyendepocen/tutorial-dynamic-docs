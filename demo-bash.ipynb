{
 "cells": [
  {
   "cell_type": "markdown",
   "metadata": {},
   "source": [
    "An example Jupyter file\n",
    "=========\n",
    "Illustrating the use of bash code chunks\n",
    "------------------\n",
    "Christopher Paciorek\n",
    "August 2015"
   ]
  },
  {
   "cell_type": "markdown",
   "metadata": {},
   "source": [
    "# 1) How to generate a document from this file\n",
    "You can create an HTML output file by simply selecting `File -> Download as -> HTML (.html)`. I don't know of a way to directly generate a PDF.\n",
    "\n",
    "To generate a document from the command line, you can do the following:\n",
    "```\n",
    "ipython nbconvert demo-bash.ipynb --to html  # for html\n",
    "ipython nbconvert demo-bash.ipynb --to pdf   # for pdf\n",
    "```\n",
    "\n",
    "Note that generating PDF involves converting the Notebook to LaTeX, and that fails for this particular document. "
   ]
  },
  {
   "cell_type": "markdown",
   "metadata": {},
   "source": [
    "\n",
    "\n",
    "# 2) Some basic Markdown formatting\n",
    "\n",
    "Here's an *introduction* to our **critical** discovery. We have some code to display but not evaluate: `7 %% 5` and will embed this in a larger workflow:\n",
    "```\n",
    "a = 7 %% 5\n",
    "b = exp(a)\n",
    "```\n",
    "\n",
    "This document will focus on embedding math and code and not on standard Markdown formatting. There are lots of sources of information on Markdown. \n"
   ]
  },
  {
   "cell_type": "markdown",
   "metadata": {},
   "source": [
    "# 3) Embedding equations using LaTeX\n",
    "\n",
    "This can be done with the following syntax. Note that you can't have a space after the initial $ for the inline equations.\n",
    "\n",
    "Here is an inline equation $f(x) = \\int f(y, x) dy$.\n",
    "\n",
    "Here's a displayed equation\n",
    "$$\n",
    "f_\\theta(x) = \\int f_\\theta(y, x) dy.\n",
    "$$ \n"
   ]
  },
  {
   "cell_type": "markdown",
   "metadata": {},
   "source": [
    "# 4) Embedding R code\n",
    "You can't directly embed code chunks from different languages in the same document. See *demo-R.ipynb*.\n",
    "\n",
    "# 5) Embedding bash code\n"
   ]
  },
  {
   "cell_type": "code",
   "execution_count": 3,
   "metadata": {
    "collapsed": false
   },
   "outputs": [
    {
     "name": "stdout",
     "output_type": "stream",
     "text": [
      "/tmp\r\n"
     ]
    }
   ],
   "source": [
    "ls -l\n",
    "df -h\n",
    "cd /tmp\n",
    "pwd"
   ]
  },
  {
   "cell_type": "code",
   "execution_count": 2,
   "metadata": {
    "collapsed": false
   },
   "outputs": [
    {
     "name": "stdout",
     "output_type": "stream",
     "text": [
      "/tmp\r\n"
     ]
    }
   ],
   "source": [
    "pwd  # result would be /tmp if state were preserved"
   ]
  },
  {
   "cell_type": "markdown",
   "metadata": {},
   "source": [
    "Note above that output is not printed interspersed with the code, as one would generally want. So you need to break up your code into chunks such that the output appears immediately following the code.\n",
    "\n",
    "Also note above that later chunks have access to result from earlier chunks (i.e., state is preserved between chunks). \n",
    "\n",
    "There is no facility for interspersing inline code and text."
   ]
  },
  {
   "cell_type": "markdown",
   "metadata": {},
   "source": [
    "\n",
    "# 6) Reading code from an external file\n",
    "I'm not aware of a way to directly source code from an external file as the code in a code chunk.\n",
    "\n",
    "# 7) Formatting of long lines of code and of output\n",
    "\n",
    "Now in bash, we have similar problems with line endings but bash allows us to use a backslash to break lines of code. The one thing that doesn't help us with is long lines of output. Also, we need to break long comments ourselves. And note that all results are printed at the end of a code chunk instead of interspersed immediately after the command generating the output.\n",
    "\n"
   ]
  },
  {
   "cell_type": "code",
   "execution_count": 4,
   "metadata": {
    "collapsed": false
   },
   "outputs": [
    {
     "name": "stdout",
     "output_type": "stream",
     "text": [
      "Statistics at UC Berkeley: We are a community engaged in research and education in probability and statistics. In addition to developing fundamental theory and methodology, we are actively\r\n",
      "Second try: Statistics at UC Berkeley: We are a community engaged in research and education in probability and statistics. In addition to developing fundamental theory and methodology, we are actively\r\n"
     ]
    }
   ],
   "source": [
    "echo \"Statistics at UC Berkeley: We are a community engaged in research and education in probability and statistics. In addition to developing fundamental theory and methodology, we are actively\" > tmp.txt\n",
    "  \n",
    "echo \"Second try: Statistics at UC Berkeley: We are a community engaged \\\n",
    "in research and education in probability and statistics. In addition to \\\n",
    "developing fundamental theory and methodology, we are actively\" \\\n",
    ">> tmp.txt\n",
    "\n",
    "cat tmp.txt\n"
   ]
  },
  {
   "cell_type": "markdown",
   "metadata": {},
   "source": [
    "We also have problems with long comments, so would need to manually format them."
   ]
  },
  {
   "cell_type": "code",
   "execution_count": 5,
   "metadata": {
    "collapsed": false
   },
   "outputs": [
    {
     "name": "stdout",
     "output_type": "stream",
     "text": []
    }
   ],
   "source": [
    "# the following long comment line is not broken in my test:\n",
    "# asdl lkjsdf jklsdf kladfj jksfd alkfd klasdf klad kla lakjsdf aljdkfad kljafda kaljdf afdlkja lkajdfsa lajdfa adlfjaf jkladf afdl\n",
    "\n",
    "# instead manually break it:\n",
    "# asdl lkjsdf jklsdf kladfj jksfd alkfd klasdf klad kla \n",
    "# lakjsdf aljdkfad kljafda kaljdf afdlkja lkajdfsa lajdfa \n",
    "# adlfjaf jkladf afdl"
   ]
  },
  {
   "cell_type": "markdown",
   "metadata": {},
   "source": [
    "# 8) References\n",
    "\n",
    "It's possible to insert references and a bibliography into a Jupyter document but it's slightly involved so we won't go into it here.\n"
   ]
  }
 ],
 "metadata": {
  "kernelspec": {
   "display_name": "Bash",
   "language": "bash",
   "name": "bash"
  },
  "language_info": {
   "codemirror_mode": "shell",
   "file_extension": ".sh",
   "mimetype": "text/x-sh",
   "name": "bash"
  }
 },
 "nbformat": 4,
 "nbformat_minor": 0
}
